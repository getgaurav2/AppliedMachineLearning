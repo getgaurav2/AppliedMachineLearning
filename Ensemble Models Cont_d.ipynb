{
 "cells": [
  {
   "cell_type": "markdown",
   "metadata": {},
   "source": [
    "# Ensemble Models Continued"
   ]
  },
  {
   "cell_type": "code",
   "execution_count": 1,
   "metadata": {},
   "outputs": [],
   "source": [
    "%matplotlib inline\n",
    "import numpy as np\n",
    "import pandas as pd\n",
    "import matplotlib.pyplot as plt\n",
    "import seaborn as sns; sns.set()"
   ]
  },
  {
   "cell_type": "markdown",
   "metadata": {},
   "source": [
    "Just as using information from two trees improves our results, we might expect that using information from many trees would improve our results even further."
   ]
  },
  {
   "cell_type": "markdown",
   "metadata": {},
   "source": [
    "## Review: Random Forest Regression\n",
    "\n",
    "In the previous section we considered random forests within the context of classification.\n",
    "Random forests can also be made to work in the case of regression (that is, continuous rather than categorical variables). The estimator to use for this is the ``RandomForestRegressor``, and the syntax is very similar to what we saw earlier.\n",
    "\n",
    "Consider the following data, drawn from the combination of a fast and slow oscillation:"
   ]
  },
  {
   "cell_type": "code",
   "execution_count": 4,
   "metadata": {},
   "outputs": [
    {
     "data": {
      "text/plain": [
       "0.8019328636609875"
      ]
     },
     "execution_count": 4,
     "metadata": {},
     "output_type": "execute_result"
    }
   ],
   "source": [
    "from sklearn.ensemble import RandomForestRegressor\n",
    "from sklearn.datasets import load_boston\n",
    "from sklearn.model_selection import cross_val_score\n",
    "from sklearn.model_selection import train_test_split\n",
    "boston = load_boston()\n",
    "\n",
    "Xtrain, Xtest, ytrain, ytest = train_test_split(boston.data, boston.target,\n",
    "                                                random_state=0)\n",
    "\n",
    "forest = RandomForestRegressor(n_estimators=200)\n",
    "formodel = forest.fit(Xtrain, ytrain)\n",
    "formodel.score(Xtest, ytest)\n"
   ]
  },
  {
   "cell_type": "markdown",
   "metadata": {},
   "source": [
    "# Parameters of Interest for Random Forest Models"
   ]
  },
  {
   "cell_type": "markdown",
   "metadata": {},
   "source": [
    " - n_estimators:\n",
    "     - Number of trees to generate for model"
   ]
  },
  {
   "cell_type": "markdown",
   "metadata": {},
   "source": [
    " - max_depth:\n",
    "     - tunes the number of times internal nodes are split.  (i.e.-tree size)"
   ]
  },
  {
   "cell_type": "markdown",
   "metadata": {},
   "source": [
    " - max_features:\n",
    "     - Number of randomly selected features per split."
   ]
  },
  {
   "cell_type": "markdown",
   "metadata": {},
   "source": [
    " - criterion:\n",
    "     - 'gini' or 'entropy' for classification and 'mse' for regression"
   ]
  },
  {
   "cell_type": "markdown",
   "metadata": {},
   "source": [
    " - min_samples_leaf:\n",
    "     - set threshold for minimum number of observations per terminal node.  (also a tree size parameter)"
   ]
  },
  {
   "cell_type": "markdown",
   "metadata": {},
   "source": [
    " - oob_score:\n",
    "     - returns out of bag score in model fit object.  Extract result by printing the 'estimators_features_' from model fit object. "
   ]
  },
  {
   "cell_type": "markdown",
   "metadata": {},
   "source": [
    "# Extract important variables from model fit object"
   ]
  },
  {
   "cell_type": "code",
   "execution_count": 5,
   "metadata": {
    "scrolled": true
   },
   "outputs": [
    {
     "name": "stdout",
     "output_type": "stream",
     "text": [
      "[0.03567772 0.0010665  0.00756334 0.00081884 0.01916037 0.39558703\n",
      " 0.01313396 0.0372577  0.00321391 0.01922959 0.02197849 0.01083206\n",
      " 0.43448049]\n"
     ]
    },
    {
     "data": {
      "text/plain": [
       "array(['CRIM', 'ZN', 'INDUS', 'CHAS', 'NOX', 'RM', 'AGE', 'DIS', 'RAD',\n",
       "       'TAX', 'PTRATIO', 'B', 'LSTAT'], dtype='|S7')"
      ]
     },
     "execution_count": 5,
     "metadata": {},
     "output_type": "execute_result"
    }
   ],
   "source": [
    "# Feature importance on a 0 to 1 normalized scale can be extracted from tree models:\n",
    "\n",
    "print(formodel.feature_importances_)  \n",
    "#in same order as feature names in data\n",
    "boston.feature_names # RM is most important variable in model.  Variable measures the Number of rooms."
   ]
  },
  {
   "cell_type": "markdown",
   "metadata": {},
   "source": [
    "# Gradient Boosted Trees"
   ]
  },
  {
   "cell_type": "code",
   "execution_count": 6,
   "metadata": {},
   "outputs": [
    {
     "name": "stdout",
     "output_type": "stream",
     "text": [
      "GradientBoostingRegressor(alpha=0.9, criterion='friedman_mse', init=None,\n",
      "             learning_rate=0.01, loss='ls', max_depth=2, max_features=None,\n",
      "             max_leaf_nodes=None, min_impurity_decrease=0.0,\n",
      "             min_impurity_split=None, min_samples_leaf=1,\n",
      "             min_samples_split=2, min_weight_fraction_leaf=0.0,\n",
      "             n_estimators=200, presort='auto', random_state=None,\n",
      "             subsample=1.0, verbose=0, warm_start=False)\n",
      "0.6548088887834213\n"
     ]
    }
   ],
   "source": [
    "#Regression model example first...\n",
    "\n",
    "from sklearn.ensemble import GradientBoostingRegressor\n",
    "from sklearn.model_selection import train_test_split\n",
    "\n",
    "Xtrain, Xtest, ytrain, ytest = train_test_split(boston.data, boston.target,\n",
    "                                                random_state=0)\n",
    "\n",
    "model = GradientBoostingRegressor(n_estimators=200, max_depth=2, learning_rate=.01)\n",
    "modelfit = model.fit(Xtrain,ytrain)\n",
    "print(modelfit)\n",
    "print(modelfit.score(Xtest, ytest))\n"
   ]
  },
  {
   "cell_type": "markdown",
   "metadata": {},
   "source": [
    "## GB learns slowly.  Need more trees"
   ]
  },
  {
   "cell_type": "code",
   "execution_count": 8,
   "metadata": {},
   "outputs": [
    {
     "name": "stdout",
     "output_type": "stream",
     "text": [
      "0.6544793849115871\n"
     ]
    }
   ],
   "source": [
    "model = GradientBoostingRegressor(n_estimators=200, max_depth=2, learning_rate=.01) # 200 trees to 20000\n",
    "modelfit = model.fit(Xtrain,ytrain)\n",
    "\n",
    "print(modelfit.score(Xtest, ytest)) "
   ]
  },
  {
   "cell_type": "markdown",
   "metadata": {},
   "source": [
    "## learning_rate affects how fast you train model.  Also a tuning parameter"
   ]
  },
  {
   "cell_type": "code",
   "execution_count": 27,
   "metadata": {},
   "outputs": [
    {
     "name": "stdout",
     "output_type": "stream",
     "text": [
      "0.7519369270059775\n"
     ]
    }
   ],
   "source": [
    "model = GradientBoostingRegressor(n_estimators=20000, max_depth=2, learning_rate=.001) # .01 to .001\n",
    "modelfit = model.fit(Xtrain,ytrain)\n",
    "\n",
    "print(modelfit.score(Xtest, ytest)) "
   ]
  },
  {
   "cell_type": "markdown",
   "metadata": {},
   "source": [
    "## Parameters of interest..."
   ]
  },
  {
   "cell_type": "markdown",
   "metadata": {},
   "source": [
    "n_estimators:\n",
    "    The number of weak learners (i.e. regression trees) is controlled by the parameter n_estimators; \n",
    "\n",
    "max_depth:\n",
    "    The size of each tree can be controlled either by setting the tree depth via max_depth or by setting the number of leaf \n",
    "    nodes via max_leaf_nodes. \n",
    "\n",
    "max_leaf_nodes:\n",
    "    The size of each tree can be controlled either by setting the tree depth via max_depth or by setting the number of leaf \n",
    "    nodes via max_leaf_nodes. \n",
    "  \n",
    "learning_rate:\n",
    "\n",
    "The learning_rate is a hyper-parameter in the range (0.0, 1.0] that controls overfitting via shrinkage ."
   ]
  },
  {
   "cell_type": "code",
   "execution_count": null,
   "metadata": {},
   "outputs": [],
   "source": [
    "# Gradient boosted classification trees follow the same syntax"
   ]
  },
  {
   "cell_type": "code",
   "execution_count": 38,
   "metadata": {},
   "outputs": [
    {
     "data": {
      "text/plain": [
       "0.92"
      ]
     },
     "execution_count": 38,
     "metadata": {},
     "output_type": "execute_result"
    }
   ],
   "source": [
    "from sklearn.datasets import make_hastie_10_2 \n",
    "from sklearn.ensemble import GradientBoostingClassifier\n",
    "\n",
    "#make some data\n",
    "X, y = make_hastie_10_2(random_state=0)\n",
    "X_train, X_test = X[:2000], X[2000:]\n",
    "y_train, y_test = y[:2000], y[2000:]\n",
    "\n",
    "clf = GradientBoostingClassifier(n_estimators=10000, learning_rate=.01,\n",
    "    max_depth=1, random_state=0).fit(X_train, y_train)\n",
    "clf.score(X_test, y_test) "
   ]
  },
  {
   "cell_type": "code",
   "execution_count": 39,
   "metadata": {},
   "outputs": [
    {
     "data": {
      "text/plain": [
       "array([0.1008, 0.0988, 0.1119, 0.1001, 0.1018, 0.097 , 0.094 , 0.0975,\n",
       "       0.1054, 0.0927])"
      ]
     },
     "execution_count": 39,
     "metadata": {},
     "output_type": "execute_result"
    }
   ],
   "source": [
    "# As with other tree models we can extract important features:\n",
    "\n",
    "clf.feature_importances_  "
   ]
  },
  {
   "cell_type": "markdown",
   "metadata": {},
   "source": [
    "# Making predictions from and ensemble of ensemble classification models:"
   ]
  },
  {
   "cell_type": "code",
   "execution_count": 19,
   "metadata": {},
   "outputs": [],
   "source": [
    "from sklearn.model_selection import train_test_split\n",
    "from sklearn.datasets import make_moons\n",
    "\n",
    "X, y = make_moons(n_samples=500, noise=0.30, random_state=42)\n",
    "X_train, X_test, y_train, y_test = train_test_split(X, y, random_state=42)"
   ]
  },
  {
   "cell_type": "code",
   "execution_count": 10,
   "metadata": {},
   "outputs": [
    {
     "data": {
      "image/png": "[encoded data removed]",
      "text/plain": [
       "<matplotlib.figure.Figure at 0x5ed6dd8>"
      ]
     },
     "metadata": {},
     "output_type": "display_data"
    }
   ],
   "source": [
    "plt.scatter(X[:, 0], X[:, 1], c=y, s=50, cmap='rainbow');"
   ]
  },
  {
   "cell_type": "code",
   "execution_count": 23,
   "metadata": {},
   "outputs": [],
   "source": [
    "# 1. Build multiple classification models\n",
    "from sklearn.ensemble import RandomForestClassifier\n",
    "from sklearn.linear_model import LogisticRegression\n",
    "from sklearn.svm import SVC\n",
    "\n",
    "#Generally works better if models you choose have diverse methodological approaches...\n",
    "\n",
    "log_clf = LogisticRegression(random_state=42) # logistic regression w/ C=default\n",
    "rnd_clf = RandomForestClassifier(random_state=42) # Random Forest\n",
    "svm_clf = SVC(random_state=42) # support vector machine\n"
   ]
  },
  {
   "cell_type": "code",
   "execution_count": 24,
   "metadata": {},
   "outputs": [],
   "source": [
    "# Goal is to predict ytest for each model and then use PREDICTIONS FROM EACH MODEL to select final predictions\n",
    "\n",
    "# Need to set up a standard for selecting final prediction:\n",
    "from sklearn.ensemble import VotingClassifier\n",
    "\n",
    "# Estimator arge is giving each estimator a name for references in functions like GridsearchCV\n",
    "\n",
    "# voting='hard' takes majority vote of each predicted value to select final prediction for ytest\n",
    "\n",
    "voting_clf = VotingClassifier(\n",
    "    estimators=[('lr', log_clf), ('rf', rnd_clf), ('svc', svm_clf)],\n",
    "    voting='hard') "
   ]
  },
  {
   "cell_type": "code",
   "execution_count": 28,
   "metadata": {},
   "outputs": [
    {
     "name": "stdout",
     "output_type": "stream",
     "text": [
      "0.896\n"
     ]
    },
    {
     "name": "stderr",
     "output_type": "stream",
     "text": [
      "C:\\Users\\Michael Parrott\\Anaconda2\\lib\\site-packages\\sklearn\\preprocessing\\label.py:151: DeprecationWarning: The truth value of an empty array is ambiguous. Returning False, but in future this will result in an error. Use `array.size > 0` to check that an array is not empty.\n",
      "  if diff:\n"
     ]
    }
   ],
   "source": [
    "vmodel = voting_clf.fit(X_train, y_train)\n",
    "print(vmodel.score(X_test, y_test)) #return accuracy of voting classifier"
   ]
  },
  {
   "cell_type": "code",
   "execution_count": 29,
   "metadata": {},
   "outputs": [
    {
     "name": "stdout",
     "output_type": "stream",
     "text": [
      "0.864\n",
      "0.872\n",
      "0.888\n"
     ]
    }
   ],
   "source": [
    "# Compare to accuracy of individual models...\n",
    "log_clf = LogisticRegression(random_state=42) # logistic regression w/ C=default\n",
    "rnd_clf = RandomForestClassifier(random_state=42) # Random Forest\n",
    "svm_clf = SVC(random_state=42) # support vector machine\n",
    "\n",
    "print(log_clf.fit(X_train, y_train).score(X_test, y_test))\n",
    "print(rnd_clf.fit(X_train, y_train).score(X_test, y_test))\n",
    "print(svm_clf.fit(X_train, y_train).score(X_test, y_test))\n"
   ]
  },
  {
   "cell_type": "markdown",
   "metadata": {},
   "source": [
    "Looks like we improved on these models using the ensemble approach!!"
   ]
  },
  {
   "cell_type": "code",
   "execution_count": null,
   "metadata": {},
   "outputs": [],
   "source": [
    "# 'soft' voting takes the predicted probabilities of each model and choose the highest value#"
   ]
  },
  {
   "cell_type": "code",
   "execution_count": 33,
   "metadata": {},
   "outputs": [
    {
     "data": {
      "text/plain": [
       "VotingClassifier(estimators=[('lr', LogisticRegression(C=1.0, class_weight=None, dual=False, fit_intercept=True,\n",
       "          intercept_scaling=1, max_iter=100, multi_class='ovr', n_jobs=1,\n",
       "          penalty='l2', random_state=42, solver='liblinear', tol=0.0001,\n",
       "          verbose=0, warm_start=False)), ('rf', RandomFor...bf',\n",
       "  max_iter=-1, probability=True, random_state=42, shrinking=True,\n",
       "  tol=0.001, verbose=False))],\n",
       "         flatten_transform=None, n_jobs=1, voting='soft', weights=None)"
      ]
     },
     "execution_count": 33,
     "metadata": {},
     "output_type": "execute_result"
    }
   ],
   "source": [
    "#Need to ensure that probabilities are generated in each model...\n",
    "\n",
    "log_clf = LogisticRegression(random_state=42)\n",
    "rnd_clf = RandomForestClassifier(random_state=42)\n",
    "svm_clf = SVC(probability=True, random_state=42)\n",
    "\n",
    "voting_clf = VotingClassifier(\n",
    "    estimators=[('lr', log_clf), ('rf', rnd_clf), ('svc', svm_clf)],\n",
    "    voting='soft')\n",
    "voting_clf.fit(X_train, y_train)"
   ]
  },
  {
   "cell_type": "code",
   "execution_count": 34,
   "metadata": {},
   "outputs": [],
   "source": [
    "voting_clf = VotingClassifier(\n",
    "    estimators=[('lr', log_clf), ('rf', rnd_clf), ('svc', svm_clf)],\n",
    "    voting='soft') \n",
    "\n",
    "vmodel = voting_clf.fit(X_train, y_train)\n"
   ]
  },
  {
   "cell_type": "code",
   "execution_count": 35,
   "metadata": {},
   "outputs": [
    {
     "name": "stdout",
     "output_type": "stream",
     "text": [
      "0.912\n"
     ]
    },
    {
     "name": "stderr",
     "output_type": "stream",
     "text": [
      "C:\\Users\\Michael Parrott\\Anaconda2\\lib\\site-packages\\sklearn\\preprocessing\\label.py:151: DeprecationWarning: The truth value of an empty array is ambiguous. Returning False, but in future this will result in an error. Use `array.size > 0` to check that an array is not empty.\n",
      "  if diff:\n"
     ]
    }
   ],
   "source": [
    "print(vmodel.score(X_test, y_test)) #return accuracy of voting classifier"
   ]
  },
  {
   "cell_type": "code",
   "execution_count": null,
   "metadata": {},
   "outputs": [],
   "source": [
    "# We do even better with a soft voting approach"
   ]
  },
  {
   "cell_type": "markdown",
   "metadata": {},
   "source": [
    "# Can you build a voting classifier on the following dataset?"
   ]
  },
  {
   "cell_type": "code",
   "execution_count": 45,
   "metadata": {},
   "outputs": [],
   "source": [
    "from sklearn.datasets import load_breast_cancer\n",
    "bc = load_breast_cancer()\n",
    "\n"
   ]
  }
 ],
 "metadata": {
  "anaconda-cloud": {},
  "kernelspec": {
   "display_name": "Python 2",
   "language": "python",
   "name": "python2"
  },
  "language_info": {
   "codemirror_mode": {
    "name": "ipython",
    "version": 2
   },
   "file_extension": ".py",
   "mimetype": "text/x-python",
   "name": "python",
   "nbconvert_exporter": "python",
   "pygments_lexer": "ipython2",
   "version": "2.7.14"
  }
 },
 "nbformat": 4,
 "nbformat_minor": 1
}
