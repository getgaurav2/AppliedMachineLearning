{
 "cells": [
  {
   "cell_type": "markdown",
   "metadata": {},
   "source": [
    "# Feature Selection Using Models Learned Thus Far..."
   ]
  },
  {
   "cell_type": "markdown",
   "metadata": {},
   "source": [
    "First, Feature selection using SelectFromModel"
   ]
  },
  {
   "cell_type": "markdown",
   "metadata": {},
   "source": [
    "SelectFromModel is a meta-transformer that can be used along with any estimator that has a coef_ or feature_importances_ \n",
    "attribute after fitting. \n",
    "\n",
    "The features are considered unimportant and removed, if the corresponding coef_ or feature_importances_ values are below \n",
    "the provided threshold parameter. \n",
    "\n",
    "Apart from specifying the threshold numerically, there are built-in heuristics for finding a threshold using a string argument. \n",
    "\n",
    "Available heuristics are “mean”, “median” and float multiples of these like “0.1*mean”."
   ]
  },
  {
   "cell_type": "markdown",
   "metadata": {},
   "source": [
    "### Example 1: Fit a Random Forest model and use SelectFromModel to keep important features"
   ]
  },
  {
   "cell_type": "code",
   "execution_count": 18,
   "metadata": {},
   "outputs": [
    {
     "name": "stdout",
     "output_type": "stream",
     "text": [
      "[0.03809578 0.00089448 0.00756718 0.00120545 0.01594091 0.3939216\n",
      " 0.01391059 0.03554424 0.00360569 0.01893587 0.02171648 0.01040486\n",
      " 0.43825687]\n"
     ]
    }
   ],
   "source": [
    "from sklearn.datasets import load_boston\n",
    "from sklearn.feature_selection import SelectFromModel\n",
    "from sklearn.ensemble import RandomForestRegressor\n",
    "\n",
    "from sklearn.model_selection import train_test_split\n",
    "\n",
    "Xtrain, Xtest, ytrain, ytest = train_test_split(boston.data, boston.target,\n",
    "                                                random_state=0)\n",
    "\n",
    "forest = RandomForestRegressor(n_estimators=200)\n",
    "formodel = forest.fit(Xtrain, ytrain)\n",
    "\n",
    "\n",
    "print()\n",
    "\n",
    "print(formodel.feature_importances_)\n"
   ]
  },
  {
   "cell_type": "code",
   "execution_count": 26,
   "metadata": {},
   "outputs": [
    {
     "name": "stdout",
     "output_type": "stream",
     "text": [
      "[[ 5.605 18.46 ]\n",
      " [ 5.927  9.22 ]\n",
      " [ 7.267  6.05 ]\n",
      " [ 6.471 17.12 ]\n",
      " [ 6.782 25.79 ]]\n",
      "(379L, 13L)\n"
     ]
    }
   ],
   "source": [
    "# Set a minimum threshold of 0.25\n",
    "sfm = SelectFromModel(formodel, threshold=.25)\n",
    "sfm.fit(Xtrain, ytrain)\n",
    "Xtrain_new = sfm.transform(Xtrain) # transform data to insert into new model\n",
    "\n",
    "print(Xtrain_new[0:5,:]) #only two variables in X now\n",
    "\n",
    "print(Xtrain.shape) #compare to original data with 13 variables"
   ]
  },
  {
   "cell_type": "markdown",
   "metadata": {},
   "source": [
    "### Example 2: Fit a Lasso model and use SelectFromModel to keep important features"
   ]
  },
  {
   "cell_type": "code",
   "execution_count": 39,
   "metadata": {},
   "outputs": [
    {
     "name": "stdout",
     "output_type": "stream",
     "text": [
      "[-0.          0.03268736 -0.          0.          0.          0.\n",
      "  0.         -0.          0.         -0.01155886 -0.          0.00679307\n",
      " -0.54971232]\n"
     ]
    },
    {
     "data": {
      "text/plain": [
       "(379L, 4L)"
      ]
     },
     "execution_count": 39,
     "metadata": {},
     "output_type": "execute_result"
    }
   ],
   "source": [
    "from sklearn.linear_model import Lasso\n",
    "from sklearn.feature_selection import SelectFromModel\n",
    "\n",
    "lassomodel = Lasso(alpha=10).fit(Xtrain, ytrain)\n",
    "model = SelectFromModel(lassomodel, prefit=True) # prefit argument allows non zero features to be chosen\n",
    "                                                 # from regularized models like lasso\n",
    "    \n",
    "X_new = model.transform(Xtrain) # transform data to insert into new model\n",
    "\n",
    "print(lassomodel.coef_)\n",
    "print(X_new.shape) #down to four variables from 13\n",
    "\n"
   ]
  },
  {
   "cell_type": "markdown",
   "metadata": {},
   "source": [
    "# Using Recursive Feature Elimination to Choose Model"
   ]
  },
  {
   "cell_type": "markdown",
   "metadata": {},
   "source": [
    "Given an external estimator that assigns weights to features (e.g., the coefficients of a linear model), the goal of recursive feature elimination (RFE) is to select features by recursively considering smaller and smaller sets of features. \n",
    "\n",
    "First, the estimator is trained on the initial set of features and the importance of each feature is obtained either through a coef_ attribute or through a feature_importances_ attribute. \n",
    "\n",
    "Basic algorithm:\n",
    "Start with full model.  Run series of models that evaluate prediction error on ytrain after dropping a feature.  Repeat for all features.  Drop feature that is helps least in predicting ytrain.  Repeat process with n-1 features...\n",
    "\n",
    "Then, the least important features are pruned from current set of features. That procedure is recursively repeated on the pruned set until the desired number of features to select is eventually reached."
   ]
  },
  {
   "cell_type": "code",
   "execution_count": 61,
   "metadata": {},
   "outputs": [
    {
     "name": "stdout",
     "output_type": "stream",
     "text": [
      "Num Features: 5\n",
      "Selected Features: [False False False  True  True  True False  True False False  True False\n",
      " False]\n",
      "Feature Ranking: [3 5 9 1 1 1 8 1 4 6 1 7 2]\n"
     ]
    }
   ],
   "source": [
    "#EXAMPLE:  RFE to find 5 features that help model predict the best:\n",
    "\n",
    "from sklearn.linear_model import LinearRegression\n",
    "from sklearn.feature_selection import RFE\n",
    "\n",
    "estimator = LinearRegression().fit(Xtrain, ytrain) #model with all X variables\n",
    "\n",
    "\n",
    "selector = RFE(estimator, 5, step=1) # step tells RFE how many features to remove each time model features are evaluated\n",
    "\n",
    "selector = selector.fit(Xtrain, ytrain) # fit RFE estimator.\n",
    "\n",
    "print(\"Num Features: %d\") % selector.n_features_\n",
    "print(\"Selected Features: %s\") % selector.support_ # T/F for top five features\n",
    "print(\"Feature Ranking: %s\") % selector.ranking_  # ranking for top five + features"
   ]
  },
  {
   "cell_type": "code",
   "execution_count": 62,
   "metadata": {},
   "outputs": [
    {
     "data": {
      "text/plain": [
       "(379L, 5L)"
      ]
     },
     "execution_count": 62,
     "metadata": {},
     "output_type": "execute_result"
    }
   ],
   "source": [
    "# Transform X data for other use in this model or other models:\n",
    "\n",
    "Xnew = selector.transform( Xtrain) #reduces X to subset identified above\n",
    "Xnew.shape"
   ]
  },
  {
   "cell_type": "markdown",
   "metadata": {},
   "source": [
    "## Can you use feature selection to transform the following dataset using different feature selection techniques?  \n",
    "How do models differ if you do not subset the data or leave it the same?  "
   ]
  },
  {
   "cell_type": "code",
   "execution_count": 66,
   "metadata": {},
   "outputs": [],
   "source": [
    "from sklearn.datasets import load_breast_cancer\n",
    "bc = load_breast_cancer()"
   ]
  },
  {
   "cell_type": "code",
   "execution_count": null,
   "metadata": {},
   "outputs": [],
   "source": []
  }
 ],
 "metadata": {
  "kernelspec": {
   "display_name": "Python 3",
   "language": "python",
   "name": "python3"
  },
  "language_info": {
   "codemirror_mode": {
    "name": "ipython",
    "version": 3
   },
   "file_extension": ".py",
   "mimetype": "text/x-python",
   "name": "python",
   "nbconvert_exporter": "python",
   "pygments_lexer": "ipython3",
   "version": "3.6.4"
  }
 },
 "nbformat": 4,
 "nbformat_minor": 2
}
